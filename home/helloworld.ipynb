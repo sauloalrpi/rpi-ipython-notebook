{
 "metadata": {
  "name": "",
  "signature": "sha256:344c6afeec1ad0c0a7ff52cad430acf846b6500585c143dd73e4f7abb4c8aa55"
 },
 "nbformat": 3,
 "nbformat_minor": 0,
 "worksheets": [
  {
   "cells": [
    {
     "cell_type": "code",
     "collapsed": false,
     "input": [
      "print \"Hello World\""
     ],
     "language": "python",
     "metadata": {},
     "outputs": [
      {
       "output_type": "stream",
       "stream": "stdout",
       "text": [
        "Hello World\n"
       ]
      }
     ],
     "prompt_number": 2
    }
   ],
   "metadata": {}
  }
 ]
}